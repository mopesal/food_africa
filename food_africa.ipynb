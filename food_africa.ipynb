{
 "cells": [
  {
   "cell_type": "code",
   "execution_count": 3,
   "id": "42104b7f-b631-49cf-8e60-d16cb55fc4dc",
   "metadata": {},
   "outputs": [
    {
     "name": "stdout",
     "output_type": "stream",
     "text": [
      "   Area Code     Area  Item Code         Item  Element Code  \\\n",
      "0          4  Algeria       2501   Population           511   \n",
      "1          4  Algeria       2501   Population          5301   \n",
      "2          4  Algeria       2901  Grand Total           664   \n",
      "3          4  Algeria       2901  Grand Total           674   \n",
      "4          4  Algeria       2901  Grand Total           684   \n",
      "\n",
      "                                  Element             Unit     Y2014  \\\n",
      "0           Total Population - Both sexes     1000 persons  38924.00   \n",
      "1                Domestic supply quantity      1000 tonnes      0.00   \n",
      "2           Food supply (kcal/capita/day)  kcal/capita/day   3377.00   \n",
      "3  Protein supply quantity (g/capita/day)     g/capita/day     94.90   \n",
      "4      Fat supply quantity (g/capita/day)     g/capita/day     80.06   \n",
      "\n",
      "      Y2015     Y2016     Y2017     Y2018  \n",
      "0  39728.00  40551.00  41389.00  42228.00  \n",
      "1      0.00      0.00      0.00      0.00  \n",
      "2   3379.00   3372.00   3341.00   3322.00  \n",
      "3     94.35     94.72     92.82     91.83  \n",
      "4     79.36     77.40     80.19     77.28  \n"
     ]
    }
   ],
   "source": [
    "# Dataframe of dataset\n",
    "import pandas as pd\n",
    "food_africa = pd.read_csv('Desktop/Data science/Hamoye internship/FoodBalanceSheets_E_Africa_NOFLAG.csv', encoding = 'latin-1')\n",
    "print(food_africa.head())\n"
   ]
  },
  {
   "cell_type": "code",
   "execution_count": 54,
   "id": "be49f3ef-8391-4f04-8186-c9c5e772df98",
   "metadata": {},
   "outputs": [
    {
     "name": "stdout",
     "output_type": "stream",
     "text": [
      "0.0245 0.0239 0.0234 0.0243 0.0243\n"
     ]
    }
   ],
   "source": [
    "# Year with least correlation with element code  is 2016\n",
    "y_14 = np.round(food_africa['Element Code'].corr(food_africa['Y2014']),4)\n",
    "y_15 = np.round(food_africa['Element Code'].corr(food_africa['Y2015']),4)\n",
    "y_16 = np.round(food_africa['Element Code'].corr(food_africa['Y2016']),4)\n",
    "y_17 = np.round(food_africa['Element Code'].corr(food_africa['Y2017']),4)\n",
    "y_18 = np.round(food_africa['Element Code'].corr(food_africa['Y2018']),4)\n",
    "print(y_14,y_15,y_16,y_17,y_18)\n"
   ]
  },
  {
   "cell_type": "code",
   "execution_count": 39,
   "id": "0de91e38-29da-47f9-a472-8a4489da81b2",
   "metadata": {},
   "outputs": [
    {
     "name": "stdout",
     "output_type": "stream",
     "text": [
      "1589\n",
      "20.86945101129498\n"
     ]
    }
   ],
   "source": [
    "# Total and percentage of missing values in year 2014 are  1589 and 21% respectively\n",
    "import numpy as np\n",
    "y2014_missing = food_africa['Y2014'].isnull().sum()\n",
    "total_null = np.sum(food_africa.isnull().sum())\n",
    "y2014_missing_per = y2014_missing/total_null* 100\n",
    "print(y2014_missing)\n",
    "print(y2014_missing_per)\n"
   ]
  },
  {
   "cell_type": "code",
   "execution_count": 13,
   "id": "2729351f-2671-4468-b0ba-2cd0ce36a969",
   "metadata": {},
   "outputs": [
    {
     "name": "stdout",
     "output_type": "stream",
     "text": [
      "                          Y2017\n",
      "Area                           \n",
      "Sudan (former)             0.00\n",
      "Ethiopia PDR               0.00\n",
      "Comoros                   59.84\n",
      "Seychelles               442.34\n",
      "Sao Tome and Principe  12662.63\n",
      "Cabo Verde             14650.74\n",
      "Guinea-Bissau          19102.77\n",
      "Lesotho                21267.96\n",
      "Botswana               22101.30\n",
      "Djibouti               22729.91\n"
     ]
    }
   ],
   "source": [
    "# Area with 7th lowest sum in year 2017 is Guinea-Bissau\n",
    "y2017_area = food_africa[['Y2017','Area']].groupby('Area').sum().sort_values(by='Y2017')\n",
    "print(y2017_area.head(10))"
   ]
  },
  {
   "cell_type": "code",
   "execution_count": 22,
   "id": "219a4956-a1de-4287-b998-315d789cf4a8",
   "metadata": {},
   "outputs": [
    {
     "name": "stdout",
     "output_type": "stream",
     "text": [
      "140.92 1671.86\n"
     ]
    }
   ],
   "source": [
    "# Mean and standard deviation for year 2017 are 140.92 and 1671.86 respectively\n",
    "mean_2017 = np.round(food_africa['Y2017'].mean(),2)\n",
    "std_2017 = np.round(food_africa['Y2017'].std(),2)\n",
    "print(mean_2017, std_2017)"
   ]
  },
  {
   "cell_type": "code",
   "execution_count": 32,
   "id": "fb075b19-2d3e-4051-8003-f0991e24b910",
   "metadata": {},
   "outputs": [
    {
     "name": "stdout",
     "output_type": "stream",
     "text": [
      "Element\n",
      "Domestic supply quantity                  31214.98\n",
      "Export Quantity                             494.75\n",
      "Fat supply quantity (g/capita/day)           91.85\n",
      "Feed                                       2070.22\n",
      "Food                                      21120.65\n",
      "Food supply (kcal/capita/day)              7685.00\n",
      "Food supply quantity (kg/capita/yr)         871.59\n",
      "Import Quantity                            1721.80\n",
      "Losses                                     2176.00\n",
      "Other uses (non-food)                      3957.12\n",
      "Processing                                 1803.00\n",
      "Production                                29482.89\n",
      "Protein supply quantity (g/capita/day)      173.05\n",
      "Residuals                                  -616.00\n",
      "Seed                                        699.00\n",
      "Stock Variation                            -505.00\n",
      "Total Population - Both sexes             24234.00\n",
      "Name: Y2015, dtype: float64\n"
     ]
    }
   ],
   "source": [
    "# Total protein supply quantity in Madagascar in 2015 is 173.05\n",
    "Madagascar = food_africa[food_africa['Area']=='Madagascar']\n",
    "mad_2015_protein = Madagascar.groupby('Element')['Y2015'].sum()\n",
    "print(mad_2015_protein)"
   ]
  },
  {
   "cell_type": "code",
   "execution_count": 58,
   "id": "5302b8c8-7f26-4774-abc4-0b2868b04949",
   "metadata": {},
   "outputs": [
    {
     "name": "stdout",
     "output_type": "stream",
     "text": [
      "49\n"
     ]
    }
   ],
   "source": [
    "# Total number of unique countries is 49\n",
    "unique_countries = food_africa['Area'].nunique()\n",
    "print(unique_countries)\n"
   ]
  },
  {
   "cell_type": "code",
   "execution_count": 69,
   "id": "2518bac1-971c-4097-8214-88a5c3727be6",
   "metadata": {},
   "outputs": [
    {
     "name": "stdout",
     "output_type": "stream",
     "text": [
      "292836.0\n"
     ]
    }
   ],
   "source": [
    "# Sum of processing in year 2017 is 292836.0\n",
    "y2017 = food_africa[food_africa['Element']=='Processing']\n",
    "y2017_processing = y2017['Y2017'].sum()\n",
    "print(y2017_processing)\n"
   ]
  },
  {
   "cell_type": "code",
   "execution_count": 83,
   "id": "3485abe0-ad30-48f3-afba-d93de6f53350",
   "metadata": {},
   "outputs": [
    {
     "name": "stdout",
     "output_type": "stream",
     "text": [
      "Y2014    58749.83\n",
      "Y2015    34910.99\n",
      "Y2016    33140.12\n",
      "Y2017    54316.91\n",
      "Y2018    20577.91\n",
      "dtype: float64\n",
      "58749.83\n"
     ]
    }
   ],
   "source": [
    "# Year with the highest sum of stock variation is year 2014\n",
    "stock_variation = food_africa[food_africa['Element']=='Stock Variation']\n",
    "year_stock_variation = stock_variation[['Y2014','Y2015','Y2016','Y2017','Y2018']].sum()\n",
    "print(year_stock_variation)\n",
    "print(year_stock_variation.max())\n",
    "\n",
    "\n"
   ]
  },
  {
   "cell_type": "code",
   "execution_count": 92,
   "id": "c36d821b-2907-494e-8569-477bf2f31b12",
   "metadata": {},
   "outputs": [
    {
     "name": "stdout",
     "output_type": "stream",
     "text": [
      "                         Y2015      Y2018\n",
      "Item                                     \n",
      "Alcohol, Non-Food      2180.00    2293.00\n",
      "Alcoholic Beverages   98783.72   97847.27\n",
      "Animal Products       11811.73   11578.61\n",
      "Animal fats          200675.72  269648.27\n",
      "Apples and products   10559.15    9640.51\n",
      "...                        ...        ...\n",
      "Vegetables, Other    158104.08  163987.21\n",
      "Vegetal Products     107064.17  107775.39\n",
      "Wheat and products   234710.51  242645.19\n",
      "Wine                   4251.81    4039.32\n",
      "Yams                 203151.78  221272.09\n",
      "\n",
      "[119 rows x 2 columns]\n"
     ]
    }
   ],
   "source": [
    "# Total sum of wine in 2016 and 2018 are 4251.81 and 4039.32 respectively\n",
    "#y15 = food_africa[food_africa['Item']=='Wine']\n",
    "#y1 = y15[['Y2015','Y2018']].sum()\n",
    "#print(y1)\n",
    "y15_18 = food_africa.groupby('Item')[['Y2015','Y2018']].sum()\n",
    "print(y15_18)"
   ]
  },
  {
   "cell_type": "code",
   "execution_count": 96,
   "id": "69768558-5948-482f-befe-0ff2f58e6d62",
   "metadata": {},
   "outputs": [
    {
     "name": "stdout",
     "output_type": "stream",
     "text": [
      "                                  Y2017\n",
      "Area                                   \n",
      "Nigeria                      1483268.23\n",
      "Egypt                         866379.92\n",
      "South Africa                  517590.54\n",
      "Ethiopia                      448683.76\n",
      "Morocco                       388495.36\n",
      "Ghana                         337599.06\n",
      "Algeria                       325644.27\n",
      "United Republic of Tanzania   322616.85\n",
      "Kenya                         264660.66\n",
      "Sudan                         239931.92\n",
      "Cameroon                      232030.43\n",
      "Angola                        229159.57\n",
      "Côte d'Ivoire                 224599.01\n",
      "Uganda                        213950.38\n",
      "Malawi                        181098.71\n",
      "Mozambique                    161407.98\n",
      "Mauritania                    156665.46\n",
      "Mali                          149928.33\n",
      "Madagascar                    131197.73\n",
      "Niger                         126707.58\n",
      "Benin                         124771.22\n",
      "Tunisia                       124167.20\n",
      "Zambia                        103223.77\n",
      "Burkina Faso                  101855.07\n",
      "Guinea                         98138.87\n",
      "Senegal                        95681.15\n",
      "Zimbabwe                       75919.34\n",
      "Rwanda                         73663.69\n",
      "Chad                           71594.68\n",
      "Sierra Leone                   55311.33\n",
      "Eswatini                       54343.33\n",
      "Mauritius                      51114.83\n",
      "Togo                           49841.88\n",
      "Congo                          41181.68\n",
      "Central African Republic       29937.00\n",
      "Namibia                        29874.89\n",
      "Liberia                        29342.20\n",
      "Gabon                          27979.64\n",
      "Gambia                         23154.18\n",
      "Djibouti                       22729.91\n",
      "Botswana                       22101.30\n",
      "Lesotho                        21267.96\n",
      "Guinea-Bissau                  19102.77\n",
      "Cabo Verde                     14650.74\n",
      "Sao Tome and Principe          12662.63\n",
      "Seychelles                       442.34\n",
      "Comoros                           59.84\n",
      "Sudan (former)                     0.00\n",
      "Ethiopia PDR                       0.00\n"
     ]
    }
   ],
   "source": [
    "# Area with highest sum in 2017 is Nigeria\n",
    "y17_area = food_africa[['Y2017','Area']].groupby('Area').sum().sort_values(by='Y2017', ascending=False)\n",
    "print(y17_area)"
   ]
  },
  {
   "cell_type": "code",
   "execution_count": null,
   "id": "47ae5830-21f2-4f14-90d8-2db52ebd97cb",
   "metadata": {},
   "outputs": [],
   "source": []
  }
 ],
 "metadata": {
  "kernelspec": {
   "display_name": "Python 3 (ipykernel)",
   "language": "python",
   "name": "python3"
  },
  "language_info": {
   "codemirror_mode": {
    "name": "ipython",
    "version": 3
   },
   "file_extension": ".py",
   "mimetype": "text/x-python",
   "name": "python",
   "nbconvert_exporter": "python",
   "pygments_lexer": "ipython3",
   "version": "3.11.7"
  }
 },
 "nbformat": 4,
 "nbformat_minor": 5
}
